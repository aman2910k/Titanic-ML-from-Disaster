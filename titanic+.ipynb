{
 "cells": [
  {
   "cell_type": "code",
   "execution_count": 3,
   "metadata": {
    "collapsed": true
   },
   "outputs": [],
   "source": [
    "\"\"\"\n",
    "The sinking of the RMS Titanic is one of the most infamous shipwrecks in history.  \n",
    "On April 15, 1912, during her maiden voyage, the Titanic sank after colliding with an iceberg, \n",
    "killing 1502 out of 2224 passengers and crew. \n",
    "This sensational tragedy shocked the international community and led to better \n",
    "safety regulations for ships.\n",
    "One of the reasons that the shipwreck led to such loss of life was that there were not enough\n",
    "lifeboats for the passengers and crew. Although there was some element of luck involved in \n",
    "surviving the sinking, some groups of people were more likely to survive than others, \n",
    "such as women, children, and the upper-class.\n",
    "In this challenge, we ask you to complete the analysis of what sorts of people were likely to\n",
    "survive. In particular, we ask you to apply the tools of machine learning to predict \n",
    "which passengers survived the tragedy.\n",
    "\n",
    "@author: AMAN\n",
    "\"\"\"\n",
    "#Importing Lib\n",
    "import numpy as np\n",
    "import pandas as pd \n",
    "\n",
    "#Importing dataset\n",
    "dataset = pd.read_csv('C:\\\\Users\\\\hp-pc\\\\Desktop\\\\Deep Summer\\\\Titanic\\\\train.csv')\n",
    "dataset = dataset.dropna(subset=['Embarked'], how='any')\n",
    "X_train= dataset.iloc[:,[2,4,5,6,7,11]].values \n",
    "y_train = dataset.iloc[:,1].values \n"
   ]
  },
  {
   "cell_type": "code",
   "execution_count": 4,
   "metadata": {
    "collapsed": true
   },
   "outputs": [],
   "source": [
    "#Data Preprossing \n",
    "from sklearn.preprocessing import Imputer \n",
    "imputer = Imputer(missing_values='NaN', strategy='mean', axis=0)\n",
    "imputer.fit(X_train[:,2:3])\n",
    "X_train[:,2:3]= imputer.transform(X_train[:,2:3])\n",
    "\n",
    "from sklearn.preprocessing import LabelEncoder, OneHotEncoder \n",
    "labelencoder_X1 = LabelEncoder()\n",
    "X_train[:,1] =  labelencoder_X1.fit_transform(X_train[:,1])\n",
    "labelencoder_X2 = LabelEncoder()\n",
    "X_train[:,5] =  labelencoder_X1.fit_transform(X_train[:,5])\n",
    "\n",
    "onehotencoder = OneHotEncoder(categorical_features = [0])\n",
    "X_train = onehotencoder.fit_transform(X_train).toarray()\n",
    "onehotencoder5 = OneHotEncoder(categorical_features = [5])\n",
    "X_train = onehotencoder5.fit_transform(X_train).toarray()\n",
    "X_train = X_train[:, 1:]\n",
    "\n",
    "from sklearn.preprocessing import StandardScaler \n",
    "sc= StandardScaler()\n",
    "X_train=sc.fit_transform(X_train)"
   ]
  },
  {
   "cell_type": "code",
   "execution_count": 5,
   "metadata": {},
   "outputs": [
    {
     "name": "stderr",
     "output_type": "stream",
     "text": [
      "Using TensorFlow backend.\n"
     ]
    }
   ],
   "source": [
    "import keras \n",
    "from keras.models import Sequential \n",
    "from keras.layers import Dense \n",
    "\n",
    "classifer = Sequential()\n",
    "classifer.add(Dense(units=7,activation='relu', kernel_initializer='uniform', input_dim=13 ))\n",
    "classifer.add(Dense(units=7,activation='relu', kernel_initializer='uniform' ))\n",
    "classifer.add(Dense(units=7,activation='relu', kernel_initializer='uniform' ))\n",
    "classifer.add(Dense(units=7,activation='relu', kernel_initializer='uniform' ))\n",
    "classifer.add(Dense(units=1,activation='sigmoid', kernel_initializer='uniform'))\n",
    "classifer.compile(optimizer = 'adam', loss = 'binary_crossentropy', metrics = ['accuracy'])"
   ]
  },
  {
   "cell_type": "code",
   "execution_count": 6,
   "metadata": {},
   "outputs": [
    {
     "name": "stdout",
     "output_type": "stream",
     "text": [
      "Epoch 1/100\n",
      "889/889 [==============================] - 1s 828us/step - loss: 0.6893 - acc: 0.6175\n",
      "Epoch 2/100\n",
      "889/889 [==============================] - 0s 162us/step - loss: 0.6525 - acc: 0.6175\n",
      "Epoch 3/100\n",
      "889/889 [==============================] - 0s 179us/step - loss: 0.5604 - acc: 0.6175\n",
      "Epoch 4/100\n",
      "889/889 [==============================] - 0s 197us/step - loss: 0.5307 - acc: 0.6310\n",
      "Epoch 5/100\n",
      "889/889 [==============================] - 0s 200us/step - loss: 0.5203 - acc: 0.8065\n",
      "Epoch 6/100\n",
      "889/889 [==============================] - 0s 182us/step - loss: 0.5127 - acc: 0.8076\n",
      "Epoch 7/100\n",
      "889/889 [==============================] - 0s 186us/step - loss: 0.5066 - acc: 0.8054\n",
      "Epoch 8/100\n",
      "889/889 [==============================] - 0s 161us/step - loss: 0.5031 - acc: 0.8065\n",
      "Epoch 9/100\n",
      "889/889 [==============================] - 0s 169us/step - loss: 0.4982 - acc: 0.8043\n",
      "Epoch 10/100\n",
      "889/889 [==============================] - 0s 157us/step - loss: 0.4936 - acc: 0.8076\n",
      "Epoch 11/100\n",
      "889/889 [==============================] - 0s 162us/step - loss: 0.4895 - acc: 0.8110\n",
      "Epoch 12/100\n",
      "889/889 [==============================] - 0s 168us/step - loss: 0.4861 - acc: 0.8099\n",
      "Epoch 13/100\n",
      "889/889 [==============================] - 0s 191us/step - loss: 0.4825 - acc: 0.8144\n",
      "Epoch 14/100\n",
      "889/889 [==============================] - 0s 225us/step - loss: 0.4793 - acc: 0.8110\n",
      "Epoch 15/100\n",
      "889/889 [==============================] - 0s 244us/step - loss: 0.4764 - acc: 0.8133\n",
      "Epoch 16/100\n",
      "889/889 [==============================] - 0s 170us/step - loss: 0.4738 - acc: 0.8144\n",
      "Epoch 17/100\n",
      "889/889 [==============================] - 0s 263us/step - loss: 0.4707 - acc: 0.8144\n",
      "Epoch 18/100\n",
      "889/889 [==============================] - 0s 198us/step - loss: 0.4683 - acc: 0.8178\n",
      "Epoch 19/100\n",
      "889/889 [==============================] - 0s 166us/step - loss: 0.4657 - acc: 0.8178\n",
      "Epoch 20/100\n",
      "889/889 [==============================] - 0s 183us/step - loss: 0.4642 - acc: 0.8223\n",
      "Epoch 21/100\n",
      "889/889 [==============================] - 0s 169us/step - loss: 0.4626 - acc: 0.8223\n",
      "Epoch 22/100\n",
      "889/889 [==============================] - 0s 192us/step - loss: 0.4606 - acc: 0.8223\n",
      "Epoch 23/100\n",
      "889/889 [==============================] - 0s 282us/step - loss: 0.4582 - acc: 0.8234\n",
      "Epoch 24/100\n",
      "889/889 [==============================] - 0s 218us/step - loss: 0.4575 - acc: 0.8211\n",
      "Epoch 25/100\n",
      "889/889 [==============================] - 0s 247us/step - loss: 0.4550 - acc: 0.8223\n",
      "Epoch 26/100\n",
      "889/889 [==============================] - 0s 237us/step - loss: 0.4545 - acc: 0.8223\n",
      "Epoch 27/100\n",
      "889/889 [==============================] - 0s 164us/step - loss: 0.4520 - acc: 0.8245\n",
      "Epoch 28/100\n",
      "889/889 [==============================] - 0s 228us/step - loss: 0.4517 - acc: 0.8234\n",
      "Epoch 29/100\n",
      "889/889 [==============================] - 0s 265us/step - loss: 0.4512 - acc: 0.8223\n",
      "Epoch 30/100\n",
      "889/889 [==============================] - 0s 222us/step - loss: 0.4493 - acc: 0.8268\n",
      "Epoch 31/100\n",
      "889/889 [==============================] - 0s 318us/step - loss: 0.4490 - acc: 0.8245 0s - loss: 0.4553 - acc: 0.80 - ETA: 0s - loss: 0.4469 - acc: 0.8\n",
      "Epoch 32/100\n",
      "889/889 [==============================] - 0s 217us/step - loss: 0.4483 - acc: 0.8234\n",
      "Epoch 33/100\n",
      "889/889 [==============================] - 0s 177us/step - loss: 0.4475 - acc: 0.8223\n",
      "Epoch 34/100\n",
      "889/889 [==============================] - 0s 195us/step - loss: 0.4466 - acc: 0.8279\n",
      "Epoch 35/100\n",
      "889/889 [==============================] - 0s 261us/step - loss: 0.4457 - acc: 0.8256\n",
      "Epoch 36/100\n",
      "889/889 [==============================] - 0s 250us/step - loss: 0.4446 - acc: 0.8268\n",
      "Epoch 37/100\n",
      "889/889 [==============================] - 0s 228us/step - loss: 0.4435 - acc: 0.8268\n",
      "Epoch 38/100\n",
      "889/889 [==============================] - 0s 180us/step - loss: 0.4442 - acc: 0.8256\n",
      "Epoch 39/100\n",
      "889/889 [==============================] - 0s 251us/step - loss: 0.4428 - acc: 0.8234\n",
      "Epoch 40/100\n",
      "889/889 [==============================] - 0s 265us/step - loss: 0.4419 - acc: 0.8256\n",
      "Epoch 41/100\n",
      "889/889 [==============================] - 0s 211us/step - loss: 0.4398 - acc: 0.8268\n",
      "Epoch 42/100\n",
      "889/889 [==============================] - 0s 237us/step - loss: 0.4415 - acc: 0.8268\n",
      "Epoch 43/100\n",
      "889/889 [==============================] - 0s 221us/step - loss: 0.4391 - acc: 0.8268\n",
      "Epoch 44/100\n",
      "889/889 [==============================] - 0s 227us/step - loss: 0.4398 - acc: 0.8301\n",
      "Epoch 45/100\n",
      "889/889 [==============================] - 0s 231us/step - loss: 0.4368 - acc: 0.8256\n",
      "Epoch 46/100\n",
      "889/889 [==============================] - 0s 235us/step - loss: 0.4364 - acc: 0.8290\n",
      "Epoch 47/100\n",
      "889/889 [==============================] - 0s 274us/step - loss: 0.4351 - acc: 0.8313\n",
      "Epoch 48/100\n",
      "889/889 [==============================] - 0s 238us/step - loss: 0.4334 - acc: 0.8313\n",
      "Epoch 49/100\n",
      "889/889 [==============================] - 0s 249us/step - loss: 0.4338 - acc: 0.8301\n",
      "Epoch 50/100\n",
      "889/889 [==============================] - 0s 259us/step - loss: 0.4335 - acc: 0.8290\n",
      "Epoch 51/100\n",
      "889/889 [==============================] - 0s 316us/step - loss: 0.4313 - acc: 0.8301\n",
      "Epoch 52/100\n",
      "889/889 [==============================] - 0s 185us/step - loss: 0.4322 - acc: 0.8279\n",
      "Epoch 53/100\n",
      "889/889 [==============================] - 0s 174us/step - loss: 0.4307 - acc: 0.8279\n",
      "Epoch 54/100\n",
      "889/889 [==============================] - 0s 199us/step - loss: 0.4299 - acc: 0.8301\n",
      "Epoch 55/100\n",
      "889/889 [==============================] - 0s 181us/step - loss: 0.4290 - acc: 0.8301\n",
      "Epoch 56/100\n",
      "889/889 [==============================] - 0s 188us/step - loss: 0.4279 - acc: 0.8256\n",
      "Epoch 57/100\n",
      "889/889 [==============================] - 0s 183us/step - loss: 0.4265 - acc: 0.8234\n",
      "Epoch 58/100\n",
      "889/889 [==============================] - 0s 170us/step - loss: 0.4268 - acc: 0.8268\n",
      "Epoch 59/100\n",
      "889/889 [==============================] - 0s 188us/step - loss: 0.4251 - acc: 0.8268\n",
      "Epoch 60/100\n",
      "889/889 [==============================] - 0s 186us/step - loss: 0.4250 - acc: 0.8290\n",
      "Epoch 61/100\n",
      "889/889 [==============================] - 0s 192us/step - loss: 0.4239 - acc: 0.8301\n",
      "Epoch 62/100\n",
      "889/889 [==============================] - 0s 240us/step - loss: 0.4228 - acc: 0.8234\n",
      "Epoch 63/100\n",
      "889/889 [==============================] - 0s 241us/step - loss: 0.4232 - acc: 0.8279\n",
      "Epoch 64/100\n",
      "889/889 [==============================] - 0s 229us/step - loss: 0.4223 - acc: 0.8290\n",
      "Epoch 65/100\n",
      "889/889 [==============================] - 0s 219us/step - loss: 0.4217 - acc: 0.8301\n",
      "Epoch 66/100\n",
      "889/889 [==============================] - 0s 244us/step - loss: 0.4196 - acc: 0.8279\n",
      "Epoch 67/100\n",
      "889/889 [==============================] - 0s 221us/step - loss: 0.4204 - acc: 0.8234\n",
      "Epoch 68/100\n",
      "889/889 [==============================] - 0s 257us/step - loss: 0.4180 - acc: 0.8290\n",
      "Epoch 69/100\n",
      "889/889 [==============================] - 0s 212us/step - loss: 0.4181 - acc: 0.8301\n",
      "Epoch 70/100\n",
      "889/889 [==============================] - 0s 258us/step - loss: 0.4202 - acc: 0.8279\n",
      "Epoch 71/100\n",
      "889/889 [==============================] - 0s 230us/step - loss: 0.4165 - acc: 0.8279\n",
      "Epoch 72/100\n",
      "889/889 [==============================] - 0s 227us/step - loss: 0.4170 - acc: 0.8245\n",
      "Epoch 73/100\n",
      "889/889 [==============================] - 0s 232us/step - loss: 0.4163 - acc: 0.8290\n",
      "Epoch 74/100\n",
      "889/889 [==============================] - 0s 247us/step - loss: 0.4145 - acc: 0.8290\n",
      "Epoch 75/100\n",
      "889/889 [==============================] - 0s 267us/step - loss: 0.4153 - acc: 0.8256\n",
      "Epoch 76/100\n",
      "889/889 [==============================] - 0s 198us/step - loss: 0.4144 - acc: 0.8290\n",
      "Epoch 77/100\n",
      "889/889 [==============================] - 0s 280us/step - loss: 0.4141 - acc: 0.8290\n",
      "Epoch 78/100\n",
      "889/889 [==============================] - 0s 232us/step - loss: 0.4124 - acc: 0.8256\n",
      "Epoch 79/100\n",
      "889/889 [==============================] - 0s 262us/step - loss: 0.4140 - acc: 0.8256\n",
      "Epoch 80/100\n",
      "889/889 [==============================] - 0s 267us/step - loss: 0.4117 - acc: 0.8268\n",
      "Epoch 81/100\n",
      "889/889 [==============================] - 0s 231us/step - loss: 0.4122 - acc: 0.8290\n",
      "Epoch 82/100\n",
      "889/889 [==============================] - 0s 265us/step - loss: 0.4124 - acc: 0.8279\n",
      "Epoch 83/100\n"
     ]
    },
    {
     "name": "stdout",
     "output_type": "stream",
     "text": [
      "889/889 [==============================] - 0s 204us/step - loss: 0.4113 - acc: 0.8301\n",
      "Epoch 84/100\n",
      "889/889 [==============================] - 0s 272us/step - loss: 0.4100 - acc: 0.8279\n",
      "Epoch 85/100\n",
      "889/889 [==============================] - 0s 245us/step - loss: 0.4098 - acc: 0.8256\n",
      "Epoch 86/100\n",
      "889/889 [==============================] - 0s 213us/step - loss: 0.4089 - acc: 0.8234\n",
      "Epoch 87/100\n",
      "889/889 [==============================] - 0s 236us/step - loss: 0.4098 - acc: 0.8245\n",
      "Epoch 88/100\n",
      "889/889 [==============================] - 0s 211us/step - loss: 0.4102 - acc: 0.8268\n",
      "Epoch 89/100\n",
      "889/889 [==============================] - 0s 254us/step - loss: 0.4081 - acc: 0.8245\n",
      "Epoch 90/100\n",
      "889/889 [==============================] - 0s 211us/step - loss: 0.4070 - acc: 0.8313\n",
      "Epoch 91/100\n",
      "889/889 [==============================] - 0s 276us/step - loss: 0.4085 - acc: 0.8256\n",
      "Epoch 92/100\n",
      "889/889 [==============================] - 0s 206us/step - loss: 0.4066 - acc: 0.8290\n",
      "Epoch 93/100\n",
      "889/889 [==============================] - 0s 258us/step - loss: 0.4068 - acc: 0.8245\n",
      "Epoch 94/100\n",
      "889/889 [==============================] - 0s 193us/step - loss: 0.4061 - acc: 0.8290\n",
      "Epoch 95/100\n",
      "889/889 [==============================] - 0s 248us/step - loss: 0.4065 - acc: 0.8324\n",
      "Epoch 96/100\n",
      "889/889 [==============================] - 0s 233us/step - loss: 0.4058 - acc: 0.8256\n",
      "Epoch 97/100\n",
      "889/889 [==============================] - 0s 205us/step - loss: 0.4062 - acc: 0.8268\n",
      "Epoch 98/100\n",
      "889/889 [==============================] - 0s 170us/step - loss: 0.4060 - acc: 0.8290\n",
      "Epoch 99/100\n",
      "889/889 [==============================] - 0s 190us/step - loss: 0.4050 - acc: 0.8268\n",
      "Epoch 100/100\n",
      "889/889 [==============================] - 0s 186us/step - loss: 0.4052 - acc: 0.8313\n"
     ]
    },
    {
     "data": {
      "text/plain": [
       "<keras.callbacks.History at 0x1c4f7d59780>"
      ]
     },
     "execution_count": 6,
     "metadata": {},
     "output_type": "execute_result"
    }
   ],
   "source": [
    "classifer.fit(X_train,y_train,batch_size=10,epochs=100)"
   ]
  },
  {
   "cell_type": "code",
   "execution_count": 7,
   "metadata": {
    "collapsed": true
   },
   "outputs": [],
   "source": [
    "dataset2 = pd.read_csv('C:\\\\Users\\\\hp-pc\\\\Desktop\\\\Deep Summer\\\\Titanic\\\\test.csv')\n",
    "X_test= dataset2.iloc[:,[1,3,4,5,6,10]].values \n",
    "dataset3 = pd.read_csv('C:\\\\Users\\\\hp-pc\\\\Desktop\\\\Deep Summer\\\\Titanic\\\\gender_submission.csv')\n",
    "y_test = dataset3.iloc[:,1].values \n",
    "\n",
    "from sklearn.preprocessing import Imputer \n",
    "imputer = Imputer(missing_values='NaN', strategy='mean', axis=0)\n",
    "imputer.fit(X_test[:,2:3])\n",
    "X_test[:,2:3]= imputer.transform(X_test[:,2:3])\n",
    "\n",
    "from sklearn.preprocessing import LabelEncoder, OneHotEncoder \n",
    "labelencoder_X3 = LabelEncoder()\n",
    "X_test[:,1] =  labelencoder_X3.fit_transform(X_test[:,1])\n",
    "labelencoder_X4 = LabelEncoder()\n",
    "X_test[:,5] =  labelencoder_X4.fit_transform(X_test[:,5])\n",
    "\n",
    "onehotencoder2 = OneHotEncoder(categorical_features = [0])\n",
    "X_test = onehotencoder2.fit_transform(X_test).toarray()\n",
    "onehotencoder3 = OneHotEncoder(categorical_features = [5])\n",
    "X_test = onehotencoder3.fit_transform(X_test).toarray()\n",
    "X_test = X_test[:, 1:]\n",
    "\n",
    "from sklearn.preprocessing import StandardScaler \n",
    "sc= StandardScaler()\n",
    "X_test=sc.fit_transform(X_test)"
   ]
  },
  {
   "cell_type": "code",
   "execution_count": 8,
   "metadata": {
    "collapsed": true
   },
   "outputs": [],
   "source": [
    "y_pred = classifer.predict(X_test)\n",
    "y_pred = (y_pred > 0.5)\n",
    "from sklearn.metrics import confusion_matrix\n",
    "cm = confusion_matrix(y_test, y_pred)"
   ]
  },
  {
   "cell_type": "code",
   "execution_count": 9,
   "metadata": {},
   "outputs": [
    {
     "data": {
      "text/plain": [
       "array([[252,  14],\n",
       "       [ 25, 127]], dtype=int64)"
      ]
     },
     "execution_count": 9,
     "metadata": {},
     "output_type": "execute_result"
    }
   ],
   "source": [
    "cm"
   ]
  },
  {
   "cell_type": "code",
   "execution_count": 10,
   "metadata": {},
   "outputs": [
    {
     "data": {
      "text/plain": [
       "0.9066985645933014"
      ]
     },
     "execution_count": 10,
     "metadata": {},
     "output_type": "execute_result"
    }
   ],
   "source": [
    "(252+127)/(252+14+25+127)"
   ]
  },
  {
   "cell_type": "code",
   "execution_count": null,
   "metadata": {
    "collapsed": true
   },
   "outputs": [],
   "source": []
  }
 ],
 "metadata": {
  "kernelspec": {
   "display_name": "Python 3",
   "language": "python",
   "name": "python3"
  },
  "language_info": {
   "codemirror_mode": {
    "name": "ipython",
    "version": 3
   },
   "file_extension": ".py",
   "mimetype": "text/x-python",
   "name": "python",
   "nbconvert_exporter": "python",
   "pygments_lexer": "ipython3",
   "version": "3.6.1"
  }
 },
 "nbformat": 4,
 "nbformat_minor": 2
}
